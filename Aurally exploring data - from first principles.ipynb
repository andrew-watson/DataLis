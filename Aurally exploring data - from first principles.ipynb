{
 "cells": [
  {
   "cell_type": "markdown",
   "metadata": {},
   "source": [
    "This is a venture into exploring a dataset through sound.\n",
    "I'll start from the base level concepts, then gradually build up, testing each new addition in turn.\n",
    "\n",
    "First, here are some packages we'll need throughout:"
   ]
  },
  {
   "cell_type": "code",
   "execution_count": null,
   "metadata": {},
   "outputs": [],
   "source": [
    "import numpy as np\n",
    "import scipy.signal as sg\n",
    "import scipy.io.wavfile as wav\n",
    "import matplotlib.pyplot as plt"
   ]
  },
  {
   "cell_type": "markdown",
   "metadata": {},
   "source": [
    "A good anchor from which to explore could be an A440 sine wave - an 'A' pitch (as on the piano) with a frequency of 440Hz. From here we can manipulate the familiar sound and pitch according to our data."
   ]
  },
  {
   "cell_type": "markdown",
   "metadata": {},
   "source": [
    "The equation for a sine wave is given by:\n",
    "y = amplitude * sin(2 * pi * frequency * time_series)"
   ]
  },
  {
   "cell_type": "code",
   "execution_count": null,
   "metadata": {},
   "outputs": [],
   "source": [
    "amplitude=0.5\n",
    "fs=16000\n",
    "duration=10\n",
    "freq=440"
   ]
  },
  {
   "cell_type": "code",
   "execution_count": null,
   "metadata": {},
   "outputs": [],
   "source": [
    "t = np.linspace(0, duration, fs*duration)\n",
    "y = np.sin(2*np.pi*freq*t)\n",
    "plt.plot(t, y)"
   ]
  },
  {
   "cell_type": "markdown",
   "metadata": {},
   "source": [
    "Let's view a slice of the waveform"
   ]
  },
  {
   "cell_type": "code",
   "execution_count": null,
   "metadata": {},
   "outputs": [],
   "source": [
    "plt.plot(t[:50], y[:50])"
   ]
  },
  {
   "cell_type": "markdown",
   "metadata": {},
   "source": [
    "This is our basis - a sine wave at 440Hz, for 10 seconds."
   ]
  },
  {
   "cell_type": "markdown",
   "metadata": {},
   "source": [
    "One method for hearing changes and features in the data is pitch. Let's start by modulating the frequency over time according to a simple linear function."
   ]
  },
  {
   "cell_type": "markdown",
   "metadata": {},
   "source": [
    "Using the same parameters as before, we can extend the original sine wave equation to modulate over time according to another function.\n",
    "Here, we'll create an array of numbers increasing evenly from 0 to 1 over the length of the duration we specified before (10 seconds). The arrays need to be of equal length to apply."
   ]
  },
  {
   "cell_type": "code",
   "execution_count": null,
   "metadata": {},
   "outputs": [],
   "source": [
    "modulator=np.arange(0, 1, (1.0/len(t)))\n",
    "plt.plot(modulator)"
   ]
  },
  {
   "cell_type": "markdown",
   "metadata": {},
   "source": [
    "The expected effect here is increasing the frequency of the sine wav from 0hz to 440Hz by the end of the duration.\n",
    "\n",
    "This only requires a simple extension to the original sine wave equation:\n",
    "y = amplitude * sin(2 * pi * frequency * modulator * time_series)"
   ]
  },
  {
   "cell_type": "code",
   "execution_count": null,
   "metadata": {},
   "outputs": [],
   "source": [
    "t = np.linspace(0, duration, fs*duration)\n",
    "modulator=np.arange(0, 1, (1.0/len(t)))\n",
    "ym = np.sin(2*np.pi*(freq*modulator)*t)\n",
    "plt.plot(t, ym)"
   ]
  },
  {
   "cell_type": "markdown",
   "metadata": {},
   "source": [
    "Again, we can zoom in for a better look."
   ]
  },
  {
   "cell_type": "code",
   "execution_count": null,
   "metadata": {},
   "outputs": [],
   "source": [
    "plt.plot(t[:20000], ym[:20000])"
   ]
  },
  {
   "cell_type": "markdown",
   "metadata": {},
   "source": [
    "We now have two different signals. You can run the following commands to save them as wav files, then use afplay on the command line (or iTunes or something) to listen to them."
   ]
  },
  {
   "cell_type": "code",
   "execution_count": null,
   "metadata": {},
   "outputs": [],
   "source": [
    "wav.write(\"./a440_10sec.wav\", fs, y)\n",
    "wav.write(\"./0_to_a440_10sec.wav\", fs, ym)"
   ]
  },
  {
   "cell_type": "markdown",
   "metadata": {},
   "source": [
    "That's nice."
   ]
  },
  {
   "cell_type": "markdown",
   "metadata": {},
   "source": [
    "Chances are, our data isn't linear, so let's see what happens when we plot some random data and use it to manipulate the sine wave. As we saw above with our increasing line, our line should determine the pitch contour, allowing us to hear 'bumps' and any regularities in the data."
   ]
  },
  {
   "cell_type": "markdown",
   "metadata": {},
   "source": [
    "To speed things up, we can create a shorter array with defined peaks, then resample up to the correct length (which we would have to do anyway)."
   ]
  },
  {
   "cell_type": "code",
   "execution_count": null,
   "metadata": {},
   "outputs": [],
   "source": [
    "time_series=duration*fs\n",
    "datapoints=[1, 2, 3, 2, 1, 0, -1, -2, 1, 0, 1, 3, 5, 6, 2, -1, -1, 4, 2, 1]\n",
    "resampled_data=sg.resample(datapoints, time_series)"
   ]
  },
  {
   "cell_type": "code",
   "execution_count": null,
   "metadata": {},
   "outputs": [],
   "source": [
    "plt.plot(resampled_data)"
   ]
  },
  {
   "cell_type": "markdown",
   "metadata": {},
   "source": [
    "We can now see the expected pitch contour, so let's modulate the original sine wave and have a listen."
   ]
  },
  {
   "cell_type": "code",
   "execution_count": null,
   "metadata": {},
   "outputs": [],
   "source": [
    "#Parameters\n",
    "amplitude=0.5\n",
    "fs=16000\n",
    "duration=10\n",
    "freq=440\n",
    "modulator=resampled_data"
   ]
  },
  {
   "cell_type": "code",
   "execution_count": null,
   "metadata": {},
   "outputs": [],
   "source": [
    "t = np.linspace(0, duration, fs*duration)\n",
    "ym2 = amplitude*np.sin(2*np.pi*(freq*modulator)*t)\n",
    "plt.plot(t[:20000], ym2[:20000])"
   ]
  },
  {
   "cell_type": "code",
   "execution_count": null,
   "metadata": {},
   "outputs": [],
   "source": [
    "wav.write(\"./wibbly_a440.wav\", fs, ym2)"
   ]
  },
  {
   "cell_type": "markdown",
   "metadata": {},
   "source": [
    "This is a work in progress. Next steps are to look into normalising the datapoints, and scaling according to a useful pitch range - possibly between an octave above and below middle C."
   ]
  }
 ],
 "metadata": {
  "kernelspec": {
   "display_name": "Python 3",
   "language": "python",
   "name": "python3"
  },
  "language_info": {
   "codemirror_mode": {
    "name": "ipython",
    "version": 3
   },
   "file_extension": ".py",
   "mimetype": "text/x-python",
   "name": "python",
   "nbconvert_exporter": "python",
   "pygments_lexer": "ipython3",
   "version": "3.6.6"
  }
 },
 "nbformat": 4,
 "nbformat_minor": 2
}
